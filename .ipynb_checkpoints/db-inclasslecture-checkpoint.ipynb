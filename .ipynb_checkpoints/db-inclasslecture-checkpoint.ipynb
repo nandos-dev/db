{
 "cells": [
  {
   "cell_type": "markdown",
   "metadata": {},
   "source": [
    "# Database Programming in Python"
   ]
  },
  {
   "cell_type": "markdown",
   "metadata": {},
   "source": [
    "#### General structure of python code that makes use of a database:"
   ]
  },
  {
   "cell_type": "code",
   "execution_count": 1,
   "metadata": {},
   "outputs": [],
   "source": [
    "import sqlite3\n",
    "\n",
    "# open a database connection\n",
    "conn = sqlite3.connect('test.sqlite');\n",
    "\n",
    "# get a cursor, which will be used to execute SQL commands and to fetch the results.\n",
    "cur = conn.cursor();\n",
    "\n",
    "# ...\n",
    "# Run SQL statements using cur.execute( ... )\n",
    "# ...\n",
    "\n",
    "#make sure to commit(), so that your changes are saved.\n",
    "conn.commit();\n",
    "\n",
    "# When you are done, be sure to close so the connection is \"released\"\n",
    "conn.close();\n",
    "\n"
   ]
  },
  {
   "cell_type": "markdown",
   "metadata": {},
   "source": [
    "### In a \"production\" setting:\n",
    "* You should enclose your connection and queries in \"try ... except ...\", so you handle any errors they raise.\n",
    "* You should use transactions to group related queries.\n",
    "* In a concurrent environment (e.g., web service) you should use locks to protect critical operations."
   ]
  },
  {
   "cell_type": "markdown",
   "metadata": {},
   "source": [
    "# Create/drop table"
   ]
  },
  {
   "cell_type": "code",
   "execution_count": 3,
   "metadata": {},
   "outputs": [],
   "source": [
    "conn = sqlite3.connect('test.sqlite');\n",
    "cur = conn.cursor();\n",
    "\n",
    "# To drop a table:\n",
    "conn.execute(\"DROP TABLE IF EXISTS students\")\n",
    "\n",
    "conn.execute(\"\"\"CREATE TABLE   IF NOT EXISTS   students (\n",
    "id INTEGER PRIMARY KEY,\n",
    "name VARCHAR(30), \n",
    "birth DATE, \n",
    "gpa FLOAT, \n",
    "grad INTEGER);\n",
    "\"\"\");\n",
    "conn.commit(); #make sure to commit() so your changes are saved.\n",
    "# You should normally close when you are done with the connection, but I will not\n",
    "#  close the connection here, so I can keep using it in the rest of this tutorial.\n",
    "\n",
    "\n",
    "# I won't drop it here, because I will use the students table in the rest of this tutorial."
   ]
  },
  {
   "cell_type": "markdown",
   "metadata": {},
   "source": [
    "# Insert/Delete"
   ]
  },
  {
   "cell_type": "code",
   "execution_count": 4,
   "metadata": {},
   "outputs": [],
   "source": [
    "conn.execute(\"INSERT INTO students(name, birth, gpa, grad) \\\n",
    "    VALUES ('Anderson', '1987-10-22', 3.9, 2009);\");\n",
    "conn.execute(\"INSERT INTO students(name, birth, gpa, grad) \\\n",
    "     VALUES ('Jones', '1990-4-16', 2.4, 2012);\");\n",
    "conn.execute(\"INSERT INTO students(name, birth, gpa, grad) \\\n",
    "    VALUES ('Hernandez', '1989-8-12', 3.1, 2011);\");\n",
    "conn.execute(\"INSERT INTO students(name, birth, gpa, grad) \\\n",
    "    VALUES ('Chen', '1990-2-4', 3.2, 2011);\");\n",
    "\n",
    "# You don't have to specify all of the fields:\n",
    "conn.execute(\"INSERT INTO students(name)  VALUES ('Ahmet');\");\n",
    "\n",
    "\n",
    "# To delete all the rows:\n",
    "# conn.execute(\"DELETE FROM students;\");\n",
    "# again, commented out, because I will keep using the students table.\n",
    "\n",
    "conn.commit();"
   ]
  },
  {
   "cell_type": "markdown",
   "metadata": {},
   "source": [
    "# Select Queries\n",
    "3 main elements:\n",
    "* What you want (SELECT ...)\n",
    "* Where it is found (FROM ...)\n",
    "* How you want it filtered (WHERE ...)"
   ]
  },
  {
   "cell_type": "code",
   "execution_count": 5,
   "metadata": {},
   "outputs": [
    {
     "name": "stdout",
     "output_type": "stream",
     "text": [
      "(1, 'Anderson', '1987-10-22', 3.9, 2009)\n",
      "(2, 'Jones', '1990-4-16', 2.4, 2012)\n",
      "(3, 'Hernandez', '1989-8-12', 3.1, 2011)\n",
      "(4, 'Chen', '1990-2-4', 3.2, 2011)\n",
      "(5, 'Ahmet', None, None, None)\n"
     ]
    }
   ],
   "source": [
    "# Retrieve entire contents of a table\n",
    "# Note that you need to use cursor.execute() rather than connection.execute(), because you want to\n",
    "# fetch results. When you don't need to fetch results (i.e., CREATE/DROP/INSERT/DELETE/UPDATE),\n",
    "#  you can use connection.execute()\n",
    "cur.execute(\"SELECT * FROM students;\");\n",
    "rows = cur.fetchall()\n",
    "for row in rows: print(row)"
   ]
  },
  {
   "cell_type": "markdown",
   "metadata": {},
   "source": [
    "### Using pandas for display"
   ]
  },
  {
   "cell_type": "code",
   "execution_count": 6,
   "metadata": {},
   "outputs": [
    {
     "data": {
      "text/html": [
       "<div>\n",
       "<style scoped>\n",
       "    .dataframe tbody tr th:only-of-type {\n",
       "        vertical-align: middle;\n",
       "    }\n",
       "\n",
       "    .dataframe tbody tr th {\n",
       "        vertical-align: top;\n",
       "    }\n",
       "\n",
       "    .dataframe thead th {\n",
       "        text-align: right;\n",
       "    }\n",
       "</style>\n",
       "<table border=\"1\" class=\"dataframe\">\n",
       "  <thead>\n",
       "    <tr style=\"text-align: right;\">\n",
       "      <th></th>\n",
       "      <th>id</th>\n",
       "      <th>name</th>\n",
       "      <th>birth</th>\n",
       "      <th>gpa</th>\n",
       "      <th>grad</th>\n",
       "    </tr>\n",
       "  </thead>\n",
       "  <tbody>\n",
       "    <tr>\n",
       "      <td>0</td>\n",
       "      <td>1</td>\n",
       "      <td>Anderson</td>\n",
       "      <td>1987-10-22</td>\n",
       "      <td>3.9</td>\n",
       "      <td>2009.0</td>\n",
       "    </tr>\n",
       "    <tr>\n",
       "      <td>1</td>\n",
       "      <td>2</td>\n",
       "      <td>Jones</td>\n",
       "      <td>1990-4-16</td>\n",
       "      <td>2.4</td>\n",
       "      <td>2012.0</td>\n",
       "    </tr>\n",
       "    <tr>\n",
       "      <td>2</td>\n",
       "      <td>3</td>\n",
       "      <td>Hernandez</td>\n",
       "      <td>1989-8-12</td>\n",
       "      <td>3.1</td>\n",
       "      <td>2011.0</td>\n",
       "    </tr>\n",
       "    <tr>\n",
       "      <td>3</td>\n",
       "      <td>4</td>\n",
       "      <td>Chen</td>\n",
       "      <td>1990-2-4</td>\n",
       "      <td>3.2</td>\n",
       "      <td>2011.0</td>\n",
       "    </tr>\n",
       "    <tr>\n",
       "      <td>4</td>\n",
       "      <td>5</td>\n",
       "      <td>Ahmet</td>\n",
       "      <td>None</td>\n",
       "      <td>NaN</td>\n",
       "      <td>NaN</td>\n",
       "    </tr>\n",
       "  </tbody>\n",
       "</table>\n",
       "</div>"
      ],
      "text/plain": [
       "   id       name       birth  gpa    grad\n",
       "0   1   Anderson  1987-10-22  3.9  2009.0\n",
       "1   2      Jones   1990-4-16  2.4  2012.0\n",
       "2   3  Hernandez   1989-8-12  3.1  2011.0\n",
       "3   4       Chen    1990-2-4  3.2  2011.0\n",
       "4   5      Ahmet        None  NaN     NaN"
      ]
     },
     "metadata": {},
     "output_type": "display_data"
    }
   ],
   "source": [
    "# The output doesn't look pretty. Let's make it look prettier by converting it into a pandas data structure\n",
    "cur.execute(\"SELECT * FROM students;\");\n",
    "rows=cur.fetchall();\n",
    "from pandas import DataFrame\n",
    "df = DataFrame(rows)\n",
    "df.columns = [x[0] for x in cur.description]\n",
    "display(df) #display() is ipython-specific. In non-ipython script, you can use print(df)"
   ]
  },
  {
   "cell_type": "markdown",
   "metadata": {},
   "source": [
    "### Defining myselect() to make query & display easier"
   ]
  },
  {
   "cell_type": "code",
   "execution_count": 7,
   "metadata": {},
   "outputs": [],
   "source": [
    "# we'll be selecting and printing a lot, so let's define a function for it.\n",
    "from pandas import DataFrame\n",
    "def myselect(sql):\n",
    "    cur.execute(sql);\n",
    "    rows=cur.fetchall();\n",
    "    if len(rows)==0:\n",
    "        print('No results returned for SQL query.');\n",
    "    else:\n",
    "        df = DataFrame(rows)\n",
    "        df.columns = [x[0] for x in cur.description]\n",
    "        display(df) #display() is ipython-specific. In non-ipython script, you can use print(df)"
   ]
  },
  {
   "cell_type": "code",
   "execution_count": 8,
   "metadata": {},
   "outputs": [
    {
     "data": {
      "text/html": [
       "<div>\n",
       "<style scoped>\n",
       "    .dataframe tbody tr th:only-of-type {\n",
       "        vertical-align: middle;\n",
       "    }\n",
       "\n",
       "    .dataframe tbody tr th {\n",
       "        vertical-align: top;\n",
       "    }\n",
       "\n",
       "    .dataframe thead th {\n",
       "        text-align: right;\n",
       "    }\n",
       "</style>\n",
       "<table border=\"1\" class=\"dataframe\">\n",
       "  <thead>\n",
       "    <tr style=\"text-align: right;\">\n",
       "      <th></th>\n",
       "      <th>name</th>\n",
       "      <th>gpa</th>\n",
       "    </tr>\n",
       "  </thead>\n",
       "  <tbody>\n",
       "    <tr>\n",
       "      <td>0</td>\n",
       "      <td>Anderson</td>\n",
       "      <td>3.9</td>\n",
       "    </tr>\n",
       "    <tr>\n",
       "      <td>1</td>\n",
       "      <td>Jones</td>\n",
       "      <td>2.4</td>\n",
       "    </tr>\n",
       "    <tr>\n",
       "      <td>2</td>\n",
       "      <td>Hernandez</td>\n",
       "      <td>3.1</td>\n",
       "    </tr>\n",
       "    <tr>\n",
       "      <td>3</td>\n",
       "      <td>Chen</td>\n",
       "      <td>3.2</td>\n",
       "    </tr>\n",
       "    <tr>\n",
       "      <td>4</td>\n",
       "      <td>Ahmet</td>\n",
       "      <td>NaN</td>\n",
       "    </tr>\n",
       "  </tbody>\n",
       "</table>\n",
       "</div>"
      ],
      "text/plain": [
       "        name  gpa\n",
       "0   Anderson  3.9\n",
       "1      Jones  2.4\n",
       "2  Hernandez  3.1\n",
       "3       Chen  3.2\n",
       "4      Ahmet  NaN"
      ]
     },
     "metadata": {},
     "output_type": "display_data"
    }
   ],
   "source": [
    "# Show just a few columns from a table:\n",
    "# Retrieve entire contents of a table\n",
    "myselect(\" SELECT name, gpa FROM students; \")"
   ]
  },
  {
   "cell_type": "code",
   "execution_count": 9,
   "metadata": {},
   "outputs": [
    {
     "data": {
      "text/html": [
       "<div>\n",
       "<style scoped>\n",
       "    .dataframe tbody tr th:only-of-type {\n",
       "        vertical-align: middle;\n",
       "    }\n",
       "\n",
       "    .dataframe tbody tr th {\n",
       "        vertical-align: top;\n",
       "    }\n",
       "\n",
       "    .dataframe thead th {\n",
       "        text-align: right;\n",
       "    }\n",
       "</style>\n",
       "<table border=\"1\" class=\"dataframe\">\n",
       "  <thead>\n",
       "    <tr style=\"text-align: right;\">\n",
       "      <th></th>\n",
       "      <th>name</th>\n",
       "      <th>gpa</th>\n",
       "    </tr>\n",
       "  </thead>\n",
       "  <tbody>\n",
       "    <tr>\n",
       "      <td>0</td>\n",
       "      <td>Anderson</td>\n",
       "      <td>3.9</td>\n",
       "    </tr>\n",
       "    <tr>\n",
       "      <td>1</td>\n",
       "      <td>Hernandez</td>\n",
       "      <td>3.1</td>\n",
       "    </tr>\n",
       "    <tr>\n",
       "      <td>2</td>\n",
       "      <td>Chen</td>\n",
       "      <td>3.2</td>\n",
       "    </tr>\n",
       "  </tbody>\n",
       "</table>\n",
       "</div>"
      ],
      "text/plain": [
       "        name  gpa\n",
       "0   Anderson  3.9\n",
       "1  Hernandez  3.1\n",
       "2       Chen  3.2"
      ]
     },
     "metadata": {},
     "output_type": "display_data"
    }
   ],
   "source": [
    "# Filtering: only get a subset of the rows:\n",
    "myselect(\" SELECT name, gpa   FROM students   WHERE gpa > 3.0; \")"
   ]
  },
  {
   "cell_type": "code",
   "execution_count": 10,
   "metadata": {},
   "outputs": [
    {
     "data": {
      "text/html": [
       "<div>\n",
       "<style scoped>\n",
       "    .dataframe tbody tr th:only-of-type {\n",
       "        vertical-align: middle;\n",
       "    }\n",
       "\n",
       "    .dataframe tbody tr th {\n",
       "        vertical-align: top;\n",
       "    }\n",
       "\n",
       "    .dataframe thead th {\n",
       "        text-align: right;\n",
       "    }\n",
       "</style>\n",
       "<table border=\"1\" class=\"dataframe\">\n",
       "  <thead>\n",
       "    <tr style=\"text-align: right;\">\n",
       "      <th></th>\n",
       "      <th>gpa</th>\n",
       "      <th>name</th>\n",
       "      <th>grad</th>\n",
       "    </tr>\n",
       "  </thead>\n",
       "  <tbody>\n",
       "    <tr>\n",
       "      <td>0</td>\n",
       "      <td>3.9</td>\n",
       "      <td>Anderson</td>\n",
       "      <td>2009</td>\n",
       "    </tr>\n",
       "    <tr>\n",
       "      <td>1</td>\n",
       "      <td>3.2</td>\n",
       "      <td>Chen</td>\n",
       "      <td>2011</td>\n",
       "    </tr>\n",
       "    <tr>\n",
       "      <td>2</td>\n",
       "      <td>3.1</td>\n",
       "      <td>Hernandez</td>\n",
       "      <td>2011</td>\n",
       "    </tr>\n",
       "  </tbody>\n",
       "</table>\n",
       "</div>"
      ],
      "text/plain": [
       "   gpa       name  grad\n",
       "0  3.9   Anderson  2009\n",
       "1  3.2       Chen  2011\n",
       "2  3.1  Hernandez  2011"
      ]
     },
     "metadata": {},
     "output_type": "display_data"
    }
   ],
   "source": [
    "# Sorting:\n",
    "myselect(\" SELECT gpa, name, grad FROM students WHERE gpa > 3.0  ORDER BY gpa DESC; \")\n"
   ]
  },
  {
   "cell_type": "code",
   "execution_count": 11,
   "metadata": {},
   "outputs": [
    {
     "data": {
      "text/html": [
       "<div>\n",
       "<style scoped>\n",
       "    .dataframe tbody tr th:only-of-type {\n",
       "        vertical-align: middle;\n",
       "    }\n",
       "\n",
       "    .dataframe tbody tr th {\n",
       "        vertical-align: top;\n",
       "    }\n",
       "\n",
       "    .dataframe thead th {\n",
       "        text-align: right;\n",
       "    }\n",
       "</style>\n",
       "<table border=\"1\" class=\"dataframe\">\n",
       "  <thead>\n",
       "    <tr style=\"text-align: right;\">\n",
       "      <th></th>\n",
       "      <th>name</th>\n",
       "      <th>gpa</th>\n",
       "    </tr>\n",
       "  </thead>\n",
       "  <tbody>\n",
       "    <tr>\n",
       "      <td>0</td>\n",
       "      <td>Anderson</td>\n",
       "      <td>3.9</td>\n",
       "    </tr>\n",
       "    <tr>\n",
       "      <td>1</td>\n",
       "      <td>Jones</td>\n",
       "      <td>2.4</td>\n",
       "    </tr>\n",
       "  </tbody>\n",
       "</table>\n",
       "</div>"
      ],
      "text/plain": [
       "       name  gpa\n",
       "0  Anderson  3.9\n",
       "1     Jones  2.4"
      ]
     },
     "metadata": {},
     "output_type": "display_data"
    }
   ],
   "source": [
    "# Limiting: only get a certain number of rows:\n",
    "myselect(\" SELECT name, gpa FROM students LIMIT 0,2; \")"
   ]
  },
  {
   "cell_type": "markdown",
   "metadata": {
    "collapsed": true
   },
   "source": [
    "# Update/Delete"
   ]
  },
  {
   "cell_type": "code",
   "execution_count": 12,
   "metadata": {},
   "outputs": [
    {
     "name": "stdout",
     "output_type": "stream",
     "text": [
      "Before the update:\n"
     ]
    },
    {
     "data": {
      "text/html": [
       "<div>\n",
       "<style scoped>\n",
       "    .dataframe tbody tr th:only-of-type {\n",
       "        vertical-align: middle;\n",
       "    }\n",
       "\n",
       "    .dataframe tbody tr th {\n",
       "        vertical-align: top;\n",
       "    }\n",
       "\n",
       "    .dataframe thead th {\n",
       "        text-align: right;\n",
       "    }\n",
       "</style>\n",
       "<table border=\"1\" class=\"dataframe\">\n",
       "  <thead>\n",
       "    <tr style=\"text-align: right;\">\n",
       "      <th></th>\n",
       "      <th>id</th>\n",
       "      <th>name</th>\n",
       "      <th>birth</th>\n",
       "      <th>gpa</th>\n",
       "      <th>grad</th>\n",
       "    </tr>\n",
       "  </thead>\n",
       "  <tbody>\n",
       "    <tr>\n",
       "      <td>0</td>\n",
       "      <td>2</td>\n",
       "      <td>Jones</td>\n",
       "      <td>1990-4-16</td>\n",
       "      <td>2.4</td>\n",
       "      <td>2012</td>\n",
       "    </tr>\n",
       "  </tbody>\n",
       "</table>\n",
       "</div>"
      ],
      "text/plain": [
       "   id   name      birth  gpa  grad\n",
       "0   2  Jones  1990-4-16  2.4  2012"
      ]
     },
     "metadata": {},
     "output_type": "display_data"
    },
    {
     "name": "stdout",
     "output_type": "stream",
     "text": [
      "After the update:\n"
     ]
    },
    {
     "data": {
      "text/html": [
       "<div>\n",
       "<style scoped>\n",
       "    .dataframe tbody tr th:only-of-type {\n",
       "        vertical-align: middle;\n",
       "    }\n",
       "\n",
       "    .dataframe tbody tr th {\n",
       "        vertical-align: top;\n",
       "    }\n",
       "\n",
       "    .dataframe thead th {\n",
       "        text-align: right;\n",
       "    }\n",
       "</style>\n",
       "<table border=\"1\" class=\"dataframe\">\n",
       "  <thead>\n",
       "    <tr style=\"text-align: right;\">\n",
       "      <th></th>\n",
       "      <th>id</th>\n",
       "      <th>name</th>\n",
       "      <th>birth</th>\n",
       "      <th>gpa</th>\n",
       "      <th>grad</th>\n",
       "    </tr>\n",
       "  </thead>\n",
       "  <tbody>\n",
       "    <tr>\n",
       "      <td>0</td>\n",
       "      <td>2</td>\n",
       "      <td>Jones</td>\n",
       "      <td>1990-4-16</td>\n",
       "      <td>2.6</td>\n",
       "      <td>2013</td>\n",
       "    </tr>\n",
       "  </tbody>\n",
       "</table>\n",
       "</div>"
      ],
      "text/plain": [
       "   id   name      birth  gpa  grad\n",
       "0   2  Jones  1990-4-16  2.6  2013"
      ]
     },
     "metadata": {},
     "output_type": "display_data"
    }
   ],
   "source": [
    "print('Before the update:')\n",
    "myselect(\"SELECT * FROM students WHERE id=2\")\n",
    "\n",
    "# Update:\n",
    "conn.execute(\"\"\"\n",
    "UPDATE students\n",
    "    SET gpa = 2.6, grad = 2013\n",
    "    WHERE id = 2;\n",
    "\"\"\");\n",
    "conn.commit();\n",
    "\n",
    "print('After the update:')\n",
    "myselect(\"SELECT * FROM students WHERE id=2\")"
   ]
  },
  {
   "cell_type": "code",
   "execution_count": 13,
   "metadata": {},
   "outputs": [
    {
     "name": "stdout",
     "output_type": "stream",
     "text": [
      "Before delete:\n"
     ]
    },
    {
     "data": {
      "text/html": [
       "<div>\n",
       "<style scoped>\n",
       "    .dataframe tbody tr th:only-of-type {\n",
       "        vertical-align: middle;\n",
       "    }\n",
       "\n",
       "    .dataframe tbody tr th {\n",
       "        vertical-align: top;\n",
       "    }\n",
       "\n",
       "    .dataframe thead th {\n",
       "        text-align: right;\n",
       "    }\n",
       "</style>\n",
       "<table border=\"1\" class=\"dataframe\">\n",
       "  <thead>\n",
       "    <tr style=\"text-align: right;\">\n",
       "      <th></th>\n",
       "      <th>id</th>\n",
       "      <th>name</th>\n",
       "      <th>birth</th>\n",
       "      <th>gpa</th>\n",
       "      <th>grad</th>\n",
       "    </tr>\n",
       "  </thead>\n",
       "  <tbody>\n",
       "    <tr>\n",
       "      <td>0</td>\n",
       "      <td>2</td>\n",
       "      <td>Jones</td>\n",
       "      <td>1990-4-16</td>\n",
       "      <td>2.6</td>\n",
       "      <td>2013</td>\n",
       "    </tr>\n",
       "  </tbody>\n",
       "</table>\n",
       "</div>"
      ],
      "text/plain": [
       "   id   name      birth  gpa  grad\n",
       "0   2  Jones  1990-4-16  2.6  2013"
      ]
     },
     "metadata": {},
     "output_type": "display_data"
    },
    {
     "name": "stdout",
     "output_type": "stream",
     "text": [
      "After delete:\n",
      "No results returned for SQL query.\n"
     ]
    }
   ],
   "source": [
    "print('Before delete:')\n",
    "myselect(\"SELECT * FROM students WHERE id=2\")\n",
    "\n",
    "conn.execute(\"DELETE FROM students WHERE id = 2;\")\n",
    "\n",
    "print('After delete:')\n",
    "myselect(\"SELECT * FROM students WHERE id=2\")\n",
    "\n",
    "\n",
    "#Let's add Jones back so future queries can use it again.\n",
    "conn.execute(\"INSERT INTO students(id, name, birth, gpa, grad) \\\n",
    "     VALUES (2,'Jones', '1990-4-16', 2.4, 2012);\");\n",
    "conn.commit();"
   ]
  },
  {
   "cell_type": "markdown",
   "metadata": {
    "collapsed": true
   },
   "source": [
    "# Joins\n",
    "* Join: a query that merges the contents of 2 or more tables, retrieves information from the merged results.\n",
    "* Join example: many-to-one relationship\n",
    "* Students have advisors; add a new table describing faculty."
   ]
  },
  {
   "cell_type": "code",
   "execution_count": 14,
   "metadata": {},
   "outputs": [
    {
     "data": {
      "text/html": [
       "<div>\n",
       "<style scoped>\n",
       "    .dataframe tbody tr th:only-of-type {\n",
       "        vertical-align: middle;\n",
       "    }\n",
       "\n",
       "    .dataframe tbody tr th {\n",
       "        vertical-align: top;\n",
       "    }\n",
       "\n",
       "    .dataframe thead th {\n",
       "        text-align: right;\n",
       "    }\n",
       "</style>\n",
       "<table border=\"1\" class=\"dataframe\">\n",
       "  <thead>\n",
       "    <tr style=\"text-align: right;\">\n",
       "      <th></th>\n",
       "      <th>id</th>\n",
       "      <th>name</th>\n",
       "      <th>title</th>\n",
       "    </tr>\n",
       "  </thead>\n",
       "  <tbody>\n",
       "    <tr>\n",
       "      <td>0</td>\n",
       "      <td>1</td>\n",
       "      <td>Fujimura</td>\n",
       "      <td>assocprof</td>\n",
       "    </tr>\n",
       "    <tr>\n",
       "      <td>1</td>\n",
       "      <td>2</td>\n",
       "      <td>Bolosky</td>\n",
       "      <td>prof</td>\n",
       "    </tr>\n",
       "  </tbody>\n",
       "</table>\n",
       "</div>"
      ],
      "text/plain": [
       "   id      name      title\n",
       "0   1  Fujimura  assocprof\n",
       "1   2   Bolosky       prof"
      ]
     },
     "metadata": {},
     "output_type": "display_data"
    }
   ],
   "source": [
    "conn.execute(\"DROP TABLE IF EXISTS advisors\")\n",
    "conn.execute(\"\"\"CREATE TABLE advisors (\n",
    "id INTEGER PRIMARY KEY,\n",
    "name VARCHAR(30), \n",
    "title VARCHAR(30));\n",
    "\"\"\");\n",
    "conn.execute(\"INSERT INTO advisors(name,title) VALUES('Fujimura','assocprof');\")\n",
    "conn.execute(\"INSERT INTO advisors(name,title) VALUES('Bolosky','prof');\")\n",
    "conn.commit()\n",
    "myselect(\"SELECT * FROM advisors\")"
   ]
  },
  {
   "cell_type": "code",
   "execution_count": 15,
   "metadata": {},
   "outputs": [
    {
     "data": {
      "text/plain": [
       "<sqlite3.Cursor at 0x1ef25261490>"
      ]
     },
     "execution_count": 15,
     "metadata": {},
     "output_type": "execute_result"
    }
   ],
   "source": [
    "# Add new column advisor_id to the students table. This is a foreign key.\n",
    "conn.execute(\"ALTER TABLE students ADD COLUMN advisor_id INTEGER\")"
   ]
  },
  {
   "cell_type": "code",
   "execution_count": 16,
   "metadata": {},
   "outputs": [
    {
     "data": {
      "text/html": [
       "<div>\n",
       "<style scoped>\n",
       "    .dataframe tbody tr th:only-of-type {\n",
       "        vertical-align: middle;\n",
       "    }\n",
       "\n",
       "    .dataframe tbody tr th {\n",
       "        vertical-align: top;\n",
       "    }\n",
       "\n",
       "    .dataframe thead th {\n",
       "        text-align: right;\n",
       "    }\n",
       "</style>\n",
       "<table border=\"1\" class=\"dataframe\">\n",
       "  <thead>\n",
       "    <tr style=\"text-align: right;\">\n",
       "      <th></th>\n",
       "      <th>id</th>\n",
       "      <th>name</th>\n",
       "      <th>birth</th>\n",
       "      <th>gpa</th>\n",
       "      <th>grad</th>\n",
       "      <th>advisor_id</th>\n",
       "    </tr>\n",
       "  </thead>\n",
       "  <tbody>\n",
       "    <tr>\n",
       "      <td>0</td>\n",
       "      <td>1</td>\n",
       "      <td>Anderson</td>\n",
       "      <td>1987-10-22</td>\n",
       "      <td>3.9</td>\n",
       "      <td>2009.0</td>\n",
       "      <td>2.0</td>\n",
       "    </tr>\n",
       "    <tr>\n",
       "      <td>1</td>\n",
       "      <td>2</td>\n",
       "      <td>Jones</td>\n",
       "      <td>1990-4-16</td>\n",
       "      <td>2.4</td>\n",
       "      <td>2012.0</td>\n",
       "      <td>1.0</td>\n",
       "    </tr>\n",
       "    <tr>\n",
       "      <td>2</td>\n",
       "      <td>3</td>\n",
       "      <td>Hernandez</td>\n",
       "      <td>1989-8-12</td>\n",
       "      <td>3.1</td>\n",
       "      <td>2011.0</td>\n",
       "      <td>1.0</td>\n",
       "    </tr>\n",
       "    <tr>\n",
       "      <td>3</td>\n",
       "      <td>4</td>\n",
       "      <td>Chen</td>\n",
       "      <td>1990-2-4</td>\n",
       "      <td>3.2</td>\n",
       "      <td>2011.0</td>\n",
       "      <td>1.0</td>\n",
       "    </tr>\n",
       "    <tr>\n",
       "      <td>4</td>\n",
       "      <td>5</td>\n",
       "      <td>Ahmet</td>\n",
       "      <td>None</td>\n",
       "      <td>NaN</td>\n",
       "      <td>NaN</td>\n",
       "      <td>NaN</td>\n",
       "    </tr>\n",
       "  </tbody>\n",
       "</table>\n",
       "</div>"
      ],
      "text/plain": [
       "   id       name       birth  gpa    grad  advisor_id\n",
       "0   1   Anderson  1987-10-22  3.9  2009.0         2.0\n",
       "1   2      Jones   1990-4-16  2.4  2012.0         1.0\n",
       "2   3  Hernandez   1989-8-12  3.1  2011.0         1.0\n",
       "3   4       Chen    1990-2-4  3.2  2011.0         1.0\n",
       "4   5      Ahmet        None  NaN     NaN         NaN"
      ]
     },
     "metadata": {},
     "output_type": "display_data"
    }
   ],
   "source": [
    "conn.execute(\"UPDATE students SET advisor_id=2 WHERE id=1\")\n",
    "conn.execute(\"UPDATE students SET advisor_id=1 WHERE id=2 OR id=3 OR id=4\")\n",
    "conn.commit();\n",
    "myselect(\"SELECT * FROM students\")"
   ]
  },
  {
   "cell_type": "code",
   "execution_count": 17,
   "metadata": {},
   "outputs": [
    {
     "data": {
      "text/html": [
       "<div>\n",
       "<style scoped>\n",
       "    .dataframe tbody tr th:only-of-type {\n",
       "        vertical-align: middle;\n",
       "    }\n",
       "\n",
       "    .dataframe tbody tr th {\n",
       "        vertical-align: top;\n",
       "    }\n",
       "\n",
       "    .dataframe thead th {\n",
       "        text-align: right;\n",
       "    }\n",
       "</style>\n",
       "<table border=\"1\" class=\"dataframe\">\n",
       "  <thead>\n",
       "    <tr style=\"text-align: right;\">\n",
       "      <th></th>\n",
       "      <th>name</th>\n",
       "      <th>gpa</th>\n",
       "    </tr>\n",
       "  </thead>\n",
       "  <tbody>\n",
       "    <tr>\n",
       "      <td>0</td>\n",
       "      <td>Jones</td>\n",
       "      <td>2.4</td>\n",
       "    </tr>\n",
       "    <tr>\n",
       "      <td>1</td>\n",
       "      <td>Hernandez</td>\n",
       "      <td>3.1</td>\n",
       "    </tr>\n",
       "    <tr>\n",
       "      <td>2</td>\n",
       "      <td>Chen</td>\n",
       "      <td>3.2</td>\n",
       "    </tr>\n",
       "  </tbody>\n",
       "</table>\n",
       "</div>"
      ],
      "text/plain": [
       "        name  gpa\n",
       "0      Jones  2.4\n",
       "1  Hernandez  3.1\n",
       "2       Chen  3.2"
      ]
     },
     "metadata": {},
     "output_type": "display_data"
    }
   ],
   "source": [
    "# Perform the join query.\n",
    "# Get the students who are advised by Fujimura. Get their names and GPAs.\n",
    "myselect(\"SELECT students.name, students.gpa FROM students, advisors \\\n",
    "    WHERE advisors.name = 'Fujimura' AND advisors.id = students.advisor_id; \")"
   ]
  },
  {
   "cell_type": "code",
   "execution_count": 18,
   "metadata": {},
   "outputs": [
    {
     "data": {
      "text/html": [
       "<div>\n",
       "<style scoped>\n",
       "    .dataframe tbody tr th:only-of-type {\n",
       "        vertical-align: middle;\n",
       "    }\n",
       "\n",
       "    .dataframe tbody tr th {\n",
       "        vertical-align: top;\n",
       "    }\n",
       "\n",
       "    .dataframe thead th {\n",
       "        text-align: right;\n",
       "    }\n",
       "</style>\n",
       "<table border=\"1\" class=\"dataframe\">\n",
       "  <thead>\n",
       "    <tr style=\"text-align: right;\">\n",
       "      <th></th>\n",
       "      <th>name</th>\n",
       "      <th>gpa</th>\n",
       "    </tr>\n",
       "  </thead>\n",
       "  <tbody>\n",
       "    <tr>\n",
       "      <td>0</td>\n",
       "      <td>Jones</td>\n",
       "      <td>2.4</td>\n",
       "    </tr>\n",
       "    <tr>\n",
       "      <td>1</td>\n",
       "      <td>Hernandez</td>\n",
       "      <td>3.1</td>\n",
       "    </tr>\n",
       "    <tr>\n",
       "      <td>2</td>\n",
       "      <td>Chen</td>\n",
       "      <td>3.2</td>\n",
       "    </tr>\n",
       "  </tbody>\n",
       "</table>\n",
       "</div>"
      ],
      "text/plain": [
       "        name  gpa\n",
       "0      Jones  2.4\n",
       "1  Hernandez  3.1\n",
       "2       Chen  3.2"
      ]
     },
     "metadata": {},
     "output_type": "display_data"
    }
   ],
   "source": [
    "# You can give short names to the tables to be used within your query.\n",
    "myselect(\"SELECT s.name, s.gpa FROM students s, advisors a \\\n",
    "    WHERE a.name = 'Fujimura' AND a.id = s.advisor_id; \")"
   ]
  },
  {
   "cell_type": "code",
   "execution_count": 19,
   "metadata": {},
   "outputs": [
    {
     "data": {
      "text/html": [
       "<div>\n",
       "<style scoped>\n",
       "    .dataframe tbody tr th:only-of-type {\n",
       "        vertical-align: middle;\n",
       "    }\n",
       "\n",
       "    .dataframe tbody tr th {\n",
       "        vertical-align: top;\n",
       "    }\n",
       "\n",
       "    .dataframe thead th {\n",
       "        text-align: right;\n",
       "    }\n",
       "</style>\n",
       "<table border=\"1\" class=\"dataframe\">\n",
       "  <thead>\n",
       "    <tr style=\"text-align: right;\">\n",
       "      <th></th>\n",
       "      <th>advisorid</th>\n",
       "      <th>advisorname</th>\n",
       "      <th>studentid</th>\n",
       "      <th>studentname</th>\n",
       "      <th>gpa</th>\n",
       "    </tr>\n",
       "  </thead>\n",
       "  <tbody>\n",
       "    <tr>\n",
       "      <td>0</td>\n",
       "      <td>1</td>\n",
       "      <td>Fujimura</td>\n",
       "      <td>2</td>\n",
       "      <td>Jones</td>\n",
       "      <td>2.4</td>\n",
       "    </tr>\n",
       "    <tr>\n",
       "      <td>1</td>\n",
       "      <td>1</td>\n",
       "      <td>Fujimura</td>\n",
       "      <td>3</td>\n",
       "      <td>Hernandez</td>\n",
       "      <td>3.1</td>\n",
       "    </tr>\n",
       "    <tr>\n",
       "      <td>2</td>\n",
       "      <td>1</td>\n",
       "      <td>Fujimura</td>\n",
       "      <td>4</td>\n",
       "      <td>Chen</td>\n",
       "      <td>3.2</td>\n",
       "    </tr>\n",
       "  </tbody>\n",
       "</table>\n",
       "</div>"
      ],
      "text/plain": [
       "   advisorid advisorname  studentid studentname  gpa\n",
       "0          1    Fujimura          2       Jones  2.4\n",
       "1          1    Fujimura          3   Hernandez  3.1\n",
       "2          1    Fujimura          4        Chen  3.2"
      ]
     },
     "metadata": {},
     "output_type": "display_data"
    }
   ],
   "source": [
    "#You can change the names of the fields that come back as results\n",
    "myselect(\"SELECT a.id AS advisorid, a.name AS advisorname,\\\n",
    "s.id AS studentid, s.name AS studentname, s.gpa FROM students s, advisors a \\\n",
    "    WHERE a.name = 'Fujimura' AND a.id = s.advisor_id; \")"
   ]
  },
  {
   "cell_type": "markdown",
   "metadata": {
    "collapsed": true
   },
   "source": [
    "# Join Example: many-to-many"
   ]
  },
  {
   "cell_type": "code",
   "execution_count": 20,
   "metadata": {},
   "outputs": [],
   "source": [
    "conn.execute(\"DROP TABLE IF EXISTS courses\");\n",
    "conn.execute(\"\"\"CREATE TABLE   IF NOT EXISTS   courses (\n",
    "id INTEGER PRIMARY KEY,\n",
    "number VARCHAR(30), \n",
    "name VARCHAR(32), \n",
    "quarter VARCHAR(32));\n",
    "\"\"\"\n",
    ");\n",
    "conn.commit();"
   ]
  },
  {
   "cell_type": "code",
   "execution_count": 21,
   "metadata": {},
   "outputs": [
    {
     "data": {
      "text/html": [
       "<div>\n",
       "<style scoped>\n",
       "    .dataframe tbody tr th:only-of-type {\n",
       "        vertical-align: middle;\n",
       "    }\n",
       "\n",
       "    .dataframe tbody tr th {\n",
       "        vertical-align: top;\n",
       "    }\n",
       "\n",
       "    .dataframe thead th {\n",
       "        text-align: right;\n",
       "    }\n",
       "</style>\n",
       "<table border=\"1\" class=\"dataframe\">\n",
       "  <thead>\n",
       "    <tr style=\"text-align: right;\">\n",
       "      <th></th>\n",
       "      <th>id</th>\n",
       "      <th>number</th>\n",
       "      <th>name</th>\n",
       "      <th>quarter</th>\n",
       "    </tr>\n",
       "  </thead>\n",
       "  <tbody>\n",
       "    <tr>\n",
       "      <td>0</td>\n",
       "      <td>1</td>\n",
       "      <td>CS142</td>\n",
       "      <td>Web Stuff</td>\n",
       "      <td>Winter 2009</td>\n",
       "    </tr>\n",
       "    <tr>\n",
       "      <td>1</td>\n",
       "      <td>2</td>\n",
       "      <td>ART101</td>\n",
       "      <td>Finger painting</td>\n",
       "      <td>Fall 2008</td>\n",
       "    </tr>\n",
       "    <tr>\n",
       "      <td>2</td>\n",
       "      <td>3</td>\n",
       "      <td>ART101</td>\n",
       "      <td>Finger painting</td>\n",
       "      <td>Winter 2009</td>\n",
       "    </tr>\n",
       "    <tr>\n",
       "      <td>3</td>\n",
       "      <td>4</td>\n",
       "      <td>PE204</td>\n",
       "      <td>Mud wrestling</td>\n",
       "      <td>Winter 2009</td>\n",
       "    </tr>\n",
       "  </tbody>\n",
       "</table>\n",
       "</div>"
      ],
      "text/plain": [
       "   id  number             name      quarter\n",
       "0   1   CS142        Web Stuff  Winter 2009\n",
       "1   2  ART101  Finger painting    Fall 2008\n",
       "2   3  ART101  Finger painting  Winter 2009\n",
       "3   4   PE204    Mud wrestling  Winter 2009"
      ]
     },
     "metadata": {},
     "output_type": "display_data"
    }
   ],
   "source": [
    "conn.execute(\"INSERT INTO courses(number,name,quarter) VALUES('CS142','Web Stuff','Winter 2009')\")\n",
    "conn.execute(\"INSERT INTO courses(number,name,quarter) VALUES('ART101','Finger painting','Fall 2008')\")\n",
    "conn.execute(\"INSERT INTO courses(number,name,quarter) VALUES('ART101','Finger painting','Winter 2009')\")\n",
    "conn.execute(\"INSERT INTO courses(number,name,quarter) VALUES('PE204','Mud wrestling','Winter 2009')\")\n",
    "conn.commit();\n",
    "myselect(\"SELECT * FROM courses\");"
   ]
  },
  {
   "cell_type": "code",
   "execution_count": 22,
   "metadata": {},
   "outputs": [],
   "source": [
    "conn.execute(\"DROP TABLE IF EXISTS courses_students\");\n",
    "conn.execute(\"\"\"CREATE TABLE   IF NOT EXISTS   courses_students (\n",
    "course_id INTEGER,\n",
    "student_id INTEGER,\n",
    "PRIMARY KEY(course_id,student_id));\n",
    "\"\"\"\n",
    ");\n",
    "conn.commit();"
   ]
  },
  {
   "cell_type": "code",
   "execution_count": 23,
   "metadata": {},
   "outputs": [],
   "source": [
    "conn.execute(\"INSERT INTO courses_students VALUES(1,1)\")\n",
    "conn.execute(\"INSERT INTO courses_students VALUES(3,1)\")\n",
    "conn.execute(\"INSERT INTO courses_students VALUES(4,1)\")\n",
    "conn.execute(\"INSERT INTO courses_students VALUES(1,2)\")\n",
    "conn.execute(\"INSERT INTO courses_students VALUES(2,2)\")\n",
    "conn.execute(\"INSERT INTO courses_students VALUES(1,3)\")\n",
    "conn.execute(\"INSERT INTO courses_students VALUES(2,4)\")\n",
    "conn.execute(\"INSERT INTO courses_students VALUES(4,4)\")\n",
    "conn.commit()"
   ]
  },
  {
   "cell_type": "code",
   "execution_count": 24,
   "metadata": {},
   "outputs": [
    {
     "data": {
      "text/html": [
       "<div>\n",
       "<style scoped>\n",
       "    .dataframe tbody tr th:only-of-type {\n",
       "        vertical-align: middle;\n",
       "    }\n",
       "\n",
       "    .dataframe tbody tr th {\n",
       "        vertical-align: top;\n",
       "    }\n",
       "\n",
       "    .dataframe thead th {\n",
       "        text-align: right;\n",
       "    }\n",
       "</style>\n",
       "<table border=\"1\" class=\"dataframe\">\n",
       "  <thead>\n",
       "    <tr style=\"text-align: right;\">\n",
       "      <th></th>\n",
       "      <th>quarter</th>\n",
       "      <th>name</th>\n",
       "    </tr>\n",
       "  </thead>\n",
       "  <tbody>\n",
       "    <tr>\n",
       "      <td>0</td>\n",
       "      <td>Winter 2009</td>\n",
       "      <td>Anderson</td>\n",
       "    </tr>\n",
       "    <tr>\n",
       "      <td>1</td>\n",
       "      <td>Fall 2008</td>\n",
       "      <td>Jones</td>\n",
       "    </tr>\n",
       "    <tr>\n",
       "      <td>2</td>\n",
       "      <td>Fall 2008</td>\n",
       "      <td>Chen</td>\n",
       "    </tr>\n",
       "  </tbody>\n",
       "</table>\n",
       "</div>"
      ],
      "text/plain": [
       "       quarter      name\n",
       "0  Winter 2009  Anderson\n",
       "1    Fall 2008     Jones\n",
       "2    Fall 2008      Chen"
      ]
     },
     "metadata": {},
     "output_type": "display_data"
    }
   ],
   "source": [
    "# Find all students who have taken ART101. Get student's name\n",
    "# and the term.\n",
    "myselect(\"SELECT c.quarter,s.name \\\n",
    "FROM courses AS c, courses_students AS cs, students AS s \\\n",
    "WHERE number='ART101' AND c.id=cs.course_id AND cs.student_id=s.id\")"
   ]
  },
  {
   "cell_type": "markdown",
   "metadata": {},
   "source": [
    "# Useful SQL functions"
   ]
  },
  {
   "cell_type": "code",
   "execution_count": 25,
   "metadata": {},
   "outputs": [
    {
     "data": {
      "text/html": [
       "<div>\n",
       "<style scoped>\n",
       "    .dataframe tbody tr th:only-of-type {\n",
       "        vertical-align: middle;\n",
       "    }\n",
       "\n",
       "    .dataframe tbody tr th {\n",
       "        vertical-align: top;\n",
       "    }\n",
       "\n",
       "    .dataframe thead th {\n",
       "        text-align: right;\n",
       "    }\n",
       "</style>\n",
       "<table border=\"1\" class=\"dataframe\">\n",
       "  <thead>\n",
       "    <tr style=\"text-align: right;\">\n",
       "      <th></th>\n",
       "      <th>numberofrows</th>\n",
       "    </tr>\n",
       "  </thead>\n",
       "  <tbody>\n",
       "    <tr>\n",
       "      <td>0</td>\n",
       "      <td>5</td>\n",
       "    </tr>\n",
       "  </tbody>\n",
       "</table>\n",
       "</div>"
      ],
      "text/plain": [
       "   numberofrows\n",
       "0             5"
      ]
     },
     "metadata": {},
     "output_type": "display_data"
    }
   ],
   "source": [
    "#Query the number of elements in a table (or any SELECT statement):\n",
    "myselect('SELECT count(*) AS numberofrows FROM students')"
   ]
  },
  {
   "cell_type": "code",
   "execution_count": 26,
   "metadata": {},
   "outputs": [
    {
     "data": {
      "text/plain": [
       "5"
      ]
     },
     "execution_count": 26,
     "metadata": {},
     "output_type": "execute_result"
    }
   ],
   "source": [
    "#Get the number of elements in a table, and extract it as a python number\n",
    "cur.execute('SELECT count(*) FROM students').fetchall()[0][0]"
   ]
  },
  {
   "cell_type": "code",
   "execution_count": 27,
   "metadata": {},
   "outputs": [
    {
     "data": {
      "text/html": [
       "<div>\n",
       "<style scoped>\n",
       "    .dataframe tbody tr th:only-of-type {\n",
       "        vertical-align: middle;\n",
       "    }\n",
       "\n",
       "    .dataframe tbody tr th {\n",
       "        vertical-align: top;\n",
       "    }\n",
       "\n",
       "    .dataframe thead th {\n",
       "        text-align: right;\n",
       "    }\n",
       "</style>\n",
       "<table border=\"1\" class=\"dataframe\">\n",
       "  <thead>\n",
       "    <tr style=\"text-align: right;\">\n",
       "      <th></th>\n",
       "      <th>id</th>\n",
       "      <th>name</th>\n",
       "      <th>birth</th>\n",
       "      <th>gpa</th>\n",
       "      <th>grad</th>\n",
       "      <th>advisor_id</th>\n",
       "    </tr>\n",
       "  </thead>\n",
       "  <tbody>\n",
       "    <tr>\n",
       "      <td>0</td>\n",
       "      <td>3</td>\n",
       "      <td>Hernandez</td>\n",
       "      <td>1989-8-12</td>\n",
       "      <td>3.1</td>\n",
       "      <td>2011.0</td>\n",
       "      <td>1.0</td>\n",
       "    </tr>\n",
       "    <tr>\n",
       "      <td>1</td>\n",
       "      <td>4</td>\n",
       "      <td>Chen</td>\n",
       "      <td>1990-2-4</td>\n",
       "      <td>3.2</td>\n",
       "      <td>2011.0</td>\n",
       "      <td>1.0</td>\n",
       "    </tr>\n",
       "    <tr>\n",
       "      <td>2</td>\n",
       "      <td>5</td>\n",
       "      <td>Ahmet</td>\n",
       "      <td>None</td>\n",
       "      <td>NaN</td>\n",
       "      <td>NaN</td>\n",
       "      <td>NaN</td>\n",
       "    </tr>\n",
       "  </tbody>\n",
       "</table>\n",
       "</div>"
      ],
      "text/plain": [
       "   id       name      birth  gpa    grad  advisor_id\n",
       "0   3  Hernandez  1989-8-12  3.1  2011.0         1.0\n",
       "1   4       Chen   1990-2-4  3.2  2011.0         1.0\n",
       "2   5      Ahmet       None  NaN     NaN         NaN"
      ]
     },
     "metadata": {},
     "output_type": "display_data"
    }
   ],
   "source": [
    "myselect('SELECT * FROM students WHERE id>2')"
   ]
  },
  {
   "cell_type": "code",
   "execution_count": 28,
   "metadata": {},
   "outputs": [
    {
     "data": {
      "text/html": [
       "<div>\n",
       "<style scoped>\n",
       "    .dataframe tbody tr th:only-of-type {\n",
       "        vertical-align: middle;\n",
       "    }\n",
       "\n",
       "    .dataframe tbody tr th {\n",
       "        vertical-align: top;\n",
       "    }\n",
       "\n",
       "    .dataframe thead th {\n",
       "        text-align: right;\n",
       "    }\n",
       "</style>\n",
       "<table border=\"1\" class=\"dataframe\">\n",
       "  <thead>\n",
       "    <tr style=\"text-align: right;\">\n",
       "      <th></th>\n",
       "      <th>name</th>\n",
       "    </tr>\n",
       "  </thead>\n",
       "  <tbody>\n",
       "    <tr>\n",
       "      <td>0</td>\n",
       "      <td>Web Stuff</td>\n",
       "    </tr>\n",
       "    <tr>\n",
       "      <td>1</td>\n",
       "      <td>Finger painting</td>\n",
       "    </tr>\n",
       "    <tr>\n",
       "      <td>2</td>\n",
       "      <td>Finger painting</td>\n",
       "    </tr>\n",
       "    <tr>\n",
       "      <td>3</td>\n",
       "      <td>Mud wrestling</td>\n",
       "    </tr>\n",
       "  </tbody>\n",
       "</table>\n",
       "</div>"
      ],
      "text/plain": [
       "              name\n",
       "0        Web Stuff\n",
       "1  Finger painting\n",
       "2  Finger painting\n",
       "3    Mud wrestling"
      ]
     },
     "metadata": {},
     "output_type": "display_data"
    },
    {
     "data": {
      "text/html": [
       "<div>\n",
       "<style scoped>\n",
       "    .dataframe tbody tr th:only-of-type {\n",
       "        vertical-align: middle;\n",
       "    }\n",
       "\n",
       "    .dataframe tbody tr th {\n",
       "        vertical-align: top;\n",
       "    }\n",
       "\n",
       "    .dataframe thead th {\n",
       "        text-align: right;\n",
       "    }\n",
       "</style>\n",
       "<table border=\"1\" class=\"dataframe\">\n",
       "  <thead>\n",
       "    <tr style=\"text-align: right;\">\n",
       "      <th></th>\n",
       "      <th>name</th>\n",
       "      <th>count(*)</th>\n",
       "    </tr>\n",
       "  </thead>\n",
       "  <tbody>\n",
       "    <tr>\n",
       "      <td>0</td>\n",
       "      <td>Finger painting</td>\n",
       "      <td>2</td>\n",
       "    </tr>\n",
       "    <tr>\n",
       "      <td>1</td>\n",
       "      <td>Mud wrestling</td>\n",
       "      <td>1</td>\n",
       "    </tr>\n",
       "    <tr>\n",
       "      <td>2</td>\n",
       "      <td>Web Stuff</td>\n",
       "      <td>1</td>\n",
       "    </tr>\n",
       "  </tbody>\n",
       "</table>\n",
       "</div>"
      ],
      "text/plain": [
       "              name  count(*)\n",
       "0  Finger painting         2\n",
       "1    Mud wrestling         1\n",
       "2        Web Stuff         1"
      ]
     },
     "metadata": {},
     "output_type": "display_data"
    }
   ],
   "source": [
    "myselect('SELECT name FROM courses')\n",
    "\n",
    "myselect('SELECT name,count(*) FROM courses GROUP BY name')"
   ]
  },
  {
   "cell_type": "code",
   "execution_count": 29,
   "metadata": {},
   "outputs": [
    {
     "data": {
      "text/html": [
       "<div>\n",
       "<style scoped>\n",
       "    .dataframe tbody tr th:only-of-type {\n",
       "        vertical-align: middle;\n",
       "    }\n",
       "\n",
       "    .dataframe tbody tr th {\n",
       "        vertical-align: top;\n",
       "    }\n",
       "\n",
       "    .dataframe thead th {\n",
       "        text-align: right;\n",
       "    }\n",
       "</style>\n",
       "<table border=\"1\" class=\"dataframe\">\n",
       "  <thead>\n",
       "    <tr style=\"text-align: right;\">\n",
       "      <th></th>\n",
       "      <th>name</th>\n",
       "    </tr>\n",
       "  </thead>\n",
       "  <tbody>\n",
       "    <tr>\n",
       "      <td>0</td>\n",
       "      <td>Web Stuff</td>\n",
       "    </tr>\n",
       "    <tr>\n",
       "      <td>1</td>\n",
       "      <td>Finger painting</td>\n",
       "    </tr>\n",
       "    <tr>\n",
       "      <td>2</td>\n",
       "      <td>Mud wrestling</td>\n",
       "    </tr>\n",
       "  </tbody>\n",
       "</table>\n",
       "</div>"
      ],
      "text/plain": [
       "              name\n",
       "0        Web Stuff\n",
       "1  Finger painting\n",
       "2    Mud wrestling"
      ]
     },
     "metadata": {},
     "output_type": "display_data"
    }
   ],
   "source": [
    "myselect('SELECT distinct(name) FROM courses')"
   ]
  },
  {
   "cell_type": "code",
   "execution_count": null,
   "metadata": {},
   "outputs": [],
   "source": []
  },
  {
   "cell_type": "code",
   "execution_count": 3,
   "metadata": {},
   "outputs": [],
   "source": [
    "# import ahmet's bmes module that contains useful functions for downloading files from web.\n",
    "import sys, pathlib\n",
    "sys.path.append('D:/ahmet/doc/Dropbox/share/bmes.ahmet') #this is only for ahmet's computer.\n",
    "#if bmes.ahmet is not in your PYTHONPATH and none of the following can locate where you have your bmes.ahmet folder,\n",
    "#  you will need to hard-code it.\n",
    "sys.path.append('../bmes.ahmet'); sys.path.append('../../bmes.ahmet');\n",
    "sys.path.append(str(pathlib.Path.home())+'/Dropbox/bmes.ahmet');\n",
    "\n",
    "import bmes\n"
   ]
  },
  {
   "cell_type": "code",
   "execution_count": 4,
   "metadata": {},
   "outputs": [
    {
     "name": "stdout",
     "output_type": "stream",
     "text": [
      "14-3-3epsilon\n",
      "14-3-3epsilon\n",
      "14-3-3epsilon\n",
      "14-3-3zeta\n",
      "14-3-3zeta\n",
      "14-3-3zeta\n",
      "4E-T\n",
      "AGO1\n",
      "AGO2\n",
      "AMPKalpha\n"
     ]
    }
   ],
   "source": [
    "# Get Drosophila genes that are localized in nucleus\n",
    "url='http://amigo2.berkeleybop.org/goose?mirror=bbop&query=SELECT+genep.symbol%0D%0AFROM+term+AS+t%2C+graph_path+as+gp%2C+association+AS+a%2C+gene_product+AS+genep%2C+species+AS+s%0D%0AWHERE%0D%0A++++++++t.name%3D%27nucleus%27%0D%0AAND+t.id%3Dgp.term1_id%0D%0AAND+gp.term2_id+%3D+a.term_id%0D%0AAND+a.gene_product_id+%3D+genep.id%0D%0AAND+s.genus%3D%27Drosophila%27%0D%0AAND+s.species%3D%27melanogaster%27%0D%0AAND+s.id%3Dgenep.species_id&limit=10&format=text'\n",
    "file='drosophila_nuclear.txt';\n",
    "bmes.downloadurl(url,file)\n",
    "with open(file) as f:\n",
    "    for line in f:\n",
    "        print(line.strip())\n"
   ]
  },
  {
   "cell_type": "code",
   "execution_count": null,
   "metadata": {},
   "outputs": [],
   "source": []
  },
  {
   "cell_type": "code",
   "execution_count": 6,
   "metadata": {},
   "outputs": [
    {
     "name": "stdout",
     "output_type": "stream",
     "text": [
      "['cfa-miR-1185', 'XM_537211', '59.3438099752']\n",
      "['cfa-miR-1185', 'XM_536047', '54.527']\n",
      "['cfa-miR-1185', 'XM_005617022', '55.1716326075']\n",
      "['cfa-miR-1185', 'XM_014117861', '57.4409058608']\n",
      "['cfa-miR-1185', 'XM_014107884', '57.1519']\n",
      "['cfa-miR-1185', 'XM_005626419', '67.0536']\n",
      "['cfa-miR-1185', 'XM_005618203', '62.64']\n",
      "['cfa-miR-1185', 'NM_001252367', '58.9597687709186']\n",
      "['cfa-miR-1185', 'XM_005621885', '78.529415636']\n",
      "['cfa-miR-1185', 'XM_005622017', '58.8579982864']\n"
     ]
    }
   ],
   "source": [
    "# Downloading a gzfile and reading it line-by-line..\n",
    "gzfile=bmes.downloadfile('http://mirdb.org/download/miRDB_v6.0_prediction_result.txt.gz');\n",
    "import gzip\n",
    "i=0;\n",
    "with gzip.open(gzfile,'rt') as f:\n",
    "    for line in f:\n",
    "        parts=line.strip().split(\"\\t\")\n",
    "        print(parts)\n",
    "        i=i+1;\n",
    "        if i>=10: break\n",
    "\n",
    "\n",
    "#conn.execute(\"INSERT INTO mytable(myfirstcolumn,myseccolumn,mythirdcolumn) VALUES('cfa-let-7a', 'XM_003433204', '61.0957')\")\n"
   ]
  },
  {
   "cell_type": "code",
   "execution_count": null,
   "metadata": {},
   "outputs": [],
   "source": [
    "items=['apple','3','red'];\n",
    "\n",
    "#print('INSERT INTO myfruits(name,weight,color) VALUES (' + items[0] + ', ' + items[1] + ', ' + items[2] + ') ')"
   ]
  },
  {
   "cell_type": "code",
   "execution_count": null,
   "metadata": {},
   "outputs": [],
   "source": []
  },
  {
   "cell_type": "code",
   "execution_count": null,
   "metadata": {},
   "outputs": [],
   "source": []
  },
  {
   "cell_type": "code",
   "execution_count": null,
   "metadata": {},
   "outputs": [],
   "source": []
  },
  {
   "cell_type": "code",
   "execution_count": null,
   "metadata": {},
   "outputs": [],
   "source": []
  }
 ],
 "metadata": {
  "kernelspec": {
   "display_name": "Python 3",
   "language": "python",
   "name": "python3"
  },
  "language_info": {
   "codemirror_mode": {
    "name": "ipython",
    "version": 3
   },
   "file_extension": ".py",
   "mimetype": "text/x-python",
   "name": "python",
   "nbconvert_exporter": "python",
   "pygments_lexer": "ipython3",
   "version": "3.8.3"
  }
 },
 "nbformat": 4,
 "nbformat_minor": 2
}
