{
 "cells": [
  {
   "cell_type": "markdown",
   "metadata": {},
   "source": [
    "# Database Homework\n",
    "\n",
    "* Enter Sudent Name: \n",
    "* Enter Date:\n",
    "\n"
   ]
  },
  {
   "cell_type": "code",
   "execution_count": 4,
   "metadata": {},
   "outputs": [
    {
     "name": "stdout",
     "output_type": "stream",
     "text": [
      "The autoreload extension is already loaded. To reload it, use:\n",
      "  %reload_ext autoreload\n"
     ]
    }
   ],
   "source": [
    "# When you load this file in Jupyter, you need to use Cell->RunAll to make the instructor-provided code to take effect.\n",
    "\n",
    "%load_ext autoreload\n",
    "#%autoreload 2\n",
    "%reload_ext autoreload\n",
    "\n",
    "import sys,os; sys.path.append(os.environ['BMESAHMETDIR']); import bmes \n",
    "\n",
    "import sqlite3\n",
    "\n",
    "import bmes\n",
    "import sqlite3\n",
    "\n",
    "\n",
    "# import ahmet's bmes module that contains useful functions for downloading files from web.\n",
    "# import sys, pathlib\n",
    "# #sys.path.append('D:/ahmet/doc/Dropbox/share/bmes.ahmet') #this is only for ahmet's computer.\n",
    "# sys.path.append('C:/Users/Fernando A. Ramirez/Dropbox/bmes.ahmet')\n",
    "# #if bmes.ahmet is not in your PYTHONPATH and none of the following can locate where you have your bmes.ahmet folder,\n",
    "# #  you will need to hard-code it.\n",
    "# sys.path.append('../bmes.ahmet'); sys.path.append('../../bmes.ahmet');\n",
    "# sys.path.append(str(pathlib.Path.home())+'/Dropbox/bmes.ahmet');\n",
    "\n"
   ]
  },
  {
   "cell_type": "code",
   "execution_count": 5,
   "metadata": {},
   "outputs": [
    {
     "name": "stdout",
     "output_type": "stream",
     "text": [
      "C:/Users/FERNAN~1.RAM/AppData/Local/Temp/bmes\n"
     ]
    }
   ],
   "source": [
    "print(bmes.tempdir())"
   ]
  },
  {
   "cell_type": "markdown",
   "metadata": {},
   "source": [
    "## ===== Yeast apoptosis genes (20pt)\n",
    "Write a GO query to find the names of yeast genes that are associated with \"execution phase of apoptosis\". Here, we define \"yeast\" as any organism under the genus Saccharomyces.\n",
    "\n",
    "* Fetch the results of your GO query from the web and display them as output from your python/Matlab code."
   ]
  },
  {
   "cell_type": "code",
   "execution_count": 4,
   "metadata": {},
   "outputs": [
    {
     "ename": "NameError",
     "evalue": "name 'bmes' is not defined",
     "output_type": "error",
     "traceback": [
      "\u001b[1;31m---------------------------------------------------------------------------\u001b[0m",
      "\u001b[1;31mNameError\u001b[0m                                 Traceback (most recent call last)",
      "\u001b[1;32m<ipython-input-4-88d8fba9fe17>\u001b[0m in \u001b[0;36m<module>\u001b[1;34m\u001b[0m\n\u001b[1;32m----> 1\u001b[1;33m \u001b[0mgodbfile\u001b[0m \u001b[1;33m=\u001b[0m \u001b[0mbmes\u001b[0m\u001b[1;33m.\u001b[0m\u001b[0mdownloadurl\u001b[0m\u001b[1;33m(\u001b[0m\u001b[1;34m'http://sacan.biomed.drexel.edu/ftp/binf/godb.sqlite'\u001b[0m\u001b[1;33m)\u001b[0m\u001b[1;33m\u001b[0m\u001b[1;33m\u001b[0m\u001b[0m\n\u001b[0m\u001b[0;32m      2\u001b[0m \u001b[0mprint\u001b[0m\u001b[1;33m(\u001b[0m\u001b[0mgodbfile\u001b[0m\u001b[1;33m)\u001b[0m\u001b[1;33m\u001b[0m\u001b[1;33m\u001b[0m\u001b[0m\n\u001b[0;32m      3\u001b[0m \u001b[1;33m\u001b[0m\u001b[0m\n",
      "\u001b[1;31mNameError\u001b[0m: name 'bmes' is not defined"
     ]
    }
   ],
   "source": [
    "godbfile = bmes.downloadurl('http://sacan.biomed.drexel.edu/ftp/binf/godb.sqlite')\n",
    "print(godbfile)\n"
   ]
  },
  {
   "cell_type": "markdown",
   "metadata": {},
   "source": [
    "## ===== mirdb (80pt)\n",
    "\n",
    "### Download file & Set up db connection\n",
    "This section is sufficient for downloading the data file and setting up the database connection. You may make changes/improvements or keep it as is.\n",
    "\n",
    "In the remainder of this problem, you need to use the mirtxtfile and db variables created here.\n"
   ]
  },
  {
   "cell_type": "code",
   "execution_count": 3,
   "metadata": {},
   "outputs": [
    {
     "ename": "NameError",
     "evalue": "name 'bmes' is not defined",
     "output_type": "error",
     "traceback": [
      "\u001b[1;31m---------------------------------------------------------------------------\u001b[0m",
      "\u001b[1;31mNameError\u001b[0m                                 Traceback (most recent call last)",
      "\u001b[1;32m<ipython-input-3-639f9a78e058>\u001b[0m in \u001b[0;36m<module>\u001b[1;34m\u001b[0m\n\u001b[0;32m      1\u001b[0m \u001b[0mmirurl\u001b[0m\u001b[1;33m=\u001b[0m\u001b[1;34m'http://sacan.biomed.drexel.edu/lib/exe/fetch.php?rev=&media=course:bcomp2:db:homework_mirdb_dog75.txt'\u001b[0m\u001b[1;33m;\u001b[0m\u001b[1;33m\u001b[0m\u001b[1;33m\u001b[0m\u001b[0m\n\u001b[1;32m----> 2\u001b[1;33m \u001b[0mmirtxtfile\u001b[0m\u001b[1;33m=\u001b[0m\u001b[0mbmes\u001b[0m\u001b[1;33m.\u001b[0m\u001b[0mdownloadurl\u001b[0m\u001b[1;33m(\u001b[0m\u001b[0mmirurl\u001b[0m\u001b[1;33m,\u001b[0m\u001b[1;34m'mirdb_dog75.txt'\u001b[0m\u001b[1;33m)\u001b[0m\u001b[1;33m\u001b[0m\u001b[1;33m\u001b[0m\u001b[0m\n\u001b[0m\u001b[0;32m      3\u001b[0m \u001b[1;33m\u001b[0m\u001b[0m\n\u001b[0;32m      4\u001b[0m \u001b[0mmirdbfile\u001b[0m\u001b[1;33m=\u001b[0m\u001b[0mbmes\u001b[0m\u001b[1;33m.\u001b[0m\u001b[0mdatadir\u001b[0m\u001b[1;33m(\u001b[0m\u001b[1;33m)\u001b[0m\u001b[1;33m+\u001b[0m\u001b[1;34m'/mirdb_dog.sqlite'\u001b[0m\u001b[1;33m\u001b[0m\u001b[1;33m\u001b[0m\u001b[0m\n\u001b[0;32m      5\u001b[0m \u001b[0mdb\u001b[0m \u001b[1;33m=\u001b[0m \u001b[0msqlite3\u001b[0m\u001b[1;33m.\u001b[0m\u001b[0mconnect\u001b[0m\u001b[1;33m(\u001b[0m\u001b[0mmirdbfile\u001b[0m\u001b[1;33m)\u001b[0m\u001b[1;33m\u001b[0m\u001b[1;33m\u001b[0m\u001b[0m\n",
      "\u001b[1;31mNameError\u001b[0m: name 'bmes' is not defined"
     ]
    }
   ],
   "source": [
    "mirurl='http://sacan.biomed.drexel.edu/lib/exe/fetch.php?rev=&media=course:bcomp2:db:homework_mirdb_dog75.txt';\n",
    "mirtxtfile=bmes.downloadurl(mirurl,'mirdb_dog75.txt')\n",
    "\n",
    "mirdbfile=bmes.datadir()+'/mirdb_dog.sqlite'\n",
    "db = sqlite3.connect(mirdbfile)\n"
   ]
  },
  {
   "cell_type": "markdown",
   "metadata": {},
   "source": [
    "## %% (30pt) Create a database from mirdb data.\n",
    "* Any downloaded files should be stored elsewhere on your computer (i.e., in a \"Temporary\" directory). \n",
    "* Store the database elsewhere (in \"Temporary\" directory) on your computer; not within the same folder as your assignment. \n"
   ]
  },
  {
   "cell_type": "code",
   "execution_count": null,
   "metadata": {},
   "outputs": [],
   "source": [
    "#The code in the section above already accomplishes the file download & location requirements.\n",
    "#Just make use of mirtxtfile and db variables here.\n",
    "\n",
    "\n",
    "\n",
    "\n"
   ]
  },
  {
   "cell_type": "code",
   "execution_count": 14,
   "metadata": {},
   "outputs": [],
   "source": [
    "#% If your database creation code does not work, you may use a database\n",
    "#% created by the instructor. Uncomment the following lines to use the\n",
    "#% instructor's database. If you are using the instructor's database, we\n",
    "#% will assume that your database creation code does not work.\n",
    "\n",
    "#mirdbfile='http://sacan.biomed.drexel.edu/lib/exe/fetch.php?rev=&media=course:bcomp2:db:homework_mirdb_dog.sqlite';\n",
    "#mirdbfile=bmes.downloadurl(mirdbfile);\n",
    "#db = sqlite3.connect(mirdbfile)"
   ]
  },
  {
   "cell_type": "markdown",
   "metadata": {},
   "source": [
    "### %% Find miRNAs for a target"
   ]
  },
  {
   "cell_type": "code",
   "execution_count": 15,
   "metadata": {},
   "outputs": [],
   "source": [
    "#% * (20pt) How many miRNAs are predicted to target XM_532324  ?\n",
    "\n",
    "\n"
   ]
  },
  {
   "cell_type": "code",
   "execution_count": 16,
   "metadata": {},
   "outputs": [],
   "source": [
    "#%  * Show at most 10 miRNAs that are predicted to target XM_532324.\n",
    "\n",
    "\n"
   ]
  },
  {
   "cell_type": "markdown",
   "metadata": {},
   "source": [
    "### %% Find targets for a miRNA"
   ]
  },
  {
   "cell_type": "code",
   "execution_count": 17,
   "metadata": {},
   "outputs": [],
   "source": [
    "#% * (20pt) How many predicted targets of cfa-let-7a have a prediction score of at least 80?\n",
    "\n",
    "\n"
   ]
  },
  {
   "cell_type": "code",
   "execution_count": 18,
   "metadata": {},
   "outputs": [],
   "source": [
    "#% * Show at most 10 predicted targets of cfa-let-7a that have a prediction score of at least 80.\n",
    "\n",
    "\n"
   ]
  },
  {
   "cell_type": "markdown",
   "metadata": {},
   "source": [
    "### %% Summarize miRNAs and target counts"
   ]
  },
  {
   "cell_type": "code",
   "execution_count": null,
   "metadata": {},
   "outputs": [],
   "source": [
    "#% * (10pt) List the miRNAs and the number of their targets.\n",
    "#(Each row of the result should contain a distinct miRNA). \n",
    "#(Use count() and GROUP BY). Show only top 10 rows of the result.\n",
    "\n",
    "\n",
    "\n"
   ]
  }
 ],
 "metadata": {
  "kernelspec": {
   "display_name": "Python 3",
   "language": "python",
   "name": "python3"
  },
  "language_info": {
   "codemirror_mode": {
    "name": "ipython",
    "version": 3
   },
   "file_extension": ".py",
   "mimetype": "text/x-python",
   "name": "python",
   "nbconvert_exporter": "python",
   "pygments_lexer": "ipython3",
   "version": "3.8.3"
  }
 },
 "nbformat": 4,
 "nbformat_minor": 2
}
