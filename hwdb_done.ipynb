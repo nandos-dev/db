{
 "cells": [
  {
   "cell_type": "markdown",
   "metadata": {},
   "source": [
    "# Database Homework\n",
    "\n",
    "* Enter Sudent Name: Fernando Ramirez: Kevin McShane \n",
    "* Enter Date: 21Oct2020\n",
    "\n",
    "\n"
   ]
  },
  {
   "cell_type": "code",
   "execution_count": 2,
   "metadata": {},
   "outputs": [
    {
     "name": "stdout",
     "output_type": "stream",
     "text": [
      "The autoreload extension is already loaded. To reload it, use:\n",
      "  %reload_ext autoreload\n"
     ]
    }
   ],
   "source": [
    "# When you load this file in Jupyter, you need to use Cell->RunAll to make the instructor-provided code to take effect.\n",
    "\n",
    "%load_ext autoreload\n",
    "%autoreload 2\n",
    "\n",
    "# import ahmet's bmes module that contains useful functions for downloading files from web.\n",
    "import sys, pathlib\n",
    "#sys.path.append('D:/ahmet/doc/Dropbox/share/bmes.ahmet') #this is only for ahmet's computer.\n",
    "sys.path.append('C:/Users/Fernando A. Ramirez/Dropbox/bmes.ahmet')\n",
    "#if bmes.ahmet is not in your PYTHONPATH and none of the following can locate where you have your bmes.ahmet folder,\n",
    "#  you will need to hard-code it.\n",
    "sys.path.append('../bmes.ahmet'); sys.path.append('../../bmes.ahmet');\n",
    "sys.path.append(str(pathlib.Path.home())+'/Dropbox/bmes.ahmet');\n",
    "\n",
    "import bmes\n",
    "import sqlite3"
   ]
  },
  {
   "cell_type": "markdown",
   "metadata": {},
   "source": [
    "###### Comments\n",
    "The above path was hardcorded to the file location of my dropbox. This was performed \n",
    "becuase I had some issues running the following commands in the command-line (as administrator). \n",
    "\n",
    "setx /M BMESAHMETDIR C:/Users/Fernando A. Ramirez/Dropbox/bmes.ahmet\n",
    "\n",
    "\n",
    "setx /M BMESAHMETDIR C:/Users/nando/Dropbox/bmes.ahmet\n",
    "\n",
    "setx does create an environment variable under the Users 'nando' \n",
    "however, I was able to succesfully make the connection on the executable routing to the folder name under 'nando'. I believe the issue has to do with spaces on 'Fernando A. Ramirez'\n",
    "\n",
    "Thus, this is why I choose to hard-code the sys.path directory. This is not ideal because \n",
    "having it route to bmes.ahmet will update and synchronize the code below (if changes were \n",
    "made to the database). \n",
    "\n",
    "Another route is to manual create enviroment variables under PC, system properties"
   ]
  },
  {
   "cell_type": "markdown",
   "metadata": {},
   "source": [
    "###### Comments \n",
    "The section above is incomplete. I think I have it mapped to the dropbox, because that is my directory location. \n",
    "However, not sure what is going on with the hard-code.. e.g (sys.path.append('../bmes.ahmet)....."
   ]
  },
  {
   "cell_type": "code",
   "execution_count": 2,
   "metadata": {},
   "outputs": [
    {
     "name": "stdout",
     "output_type": "stream",
     "text": [
      "C:/Users/FERNAN~1.RAM/AppData/Local/Temp/bmes\n"
     ]
    }
   ],
   "source": [
    "print(bmes.tempdir())\n",
    "#shows the temporary directory where files are being stored \n"
   ]
  },
  {
   "cell_type": "markdown",
   "metadata": {},
   "source": [
    "## ===== Yeast apoptosis genes (20pt)\n",
    "Write a GO query to find the names of yeast genes that are associated with \"execution phase of apoptosis\". Here, we define \"yeast\" as any organism under the genus Saccharomyces.\n",
    "\n",
    "* Fetch the results of your GO query from the web and display them as output from your python/Matlab code.\n"
   ]
  },
  {
   "cell_type": "code",
   "execution_count": 3,
   "metadata": {},
   "outputs": [
    {
     "name": "stdout",
     "output_type": "stream",
     "text": [
      "Number of genes found: [2].\n",
      "NUC1, YBL055C\n"
     ]
    }
   ],
   "source": [
    "#database to be provided --- \n",
    "#find any yeast genes, that are associated with apoptosis \n",
    "import gzip \n",
    "import sqlite3 \n",
    "from pandas import DataFrame \n",
    "\n",
    "url = 'http://sacan.biomed.drexel.edu/ftp/binf/godb.sqlite'\n",
    "godbfile = bmes.downloadurl(url)\n",
    "db = sqlite3.connect(godbfile)\n",
    "cur = db.cursor();\n",
    "\n",
    "def myselect(sql):\n",
    "    cur.execute(sql);\n",
    "    rows=cur.fetchall();\n",
    "    if len(rows)==0:\n",
    "        print('No results returned for SQL query.');\n",
    "    else:\n",
    "        df = DataFrame(rows)\n",
    "        df.columns = [x[0] for x in cur.description]\n",
    "        display(df)\n",
    "\n",
    "#first pulling the ALL type of genus where column = Saccharomyces from the table species \n",
    "#yeast is as\n",
    "\n",
    "#name of the yeast are under the gene_product table as symbols\n",
    "\n",
    "#species id under the gene_product \n",
    "\n",
    "#* FROM term WHERE name LIKE \"%execution phase of apoptosis%\"\n",
    "\n",
    "cur.execute(''' SELECT DISTINCT(gene_product.symbol)\n",
    "\t FROM term AS t1, graph_path, term AS t2, association, gene_product, species \n",
    "\t WHERE t1.name LIKE \"%apoptosis%\"  \n",
    "\t AND t1.id = graph_path.term1_id  \n",
    "\t AND graph_path.term2_id = t2.id \n",
    "\t AND t2.id = association.term_id  \n",
    "\t AND association.gene_product_id = gene_product.id  \n",
    "\t AND species.genus=\"Saccharomyces\" \n",
    "\t AND species.id = gene_product.species_id ''')\n",
    "\n",
    "#intact table connections from lecture, however wild-card to associate the term name \n",
    "#with any genus containing apoptosis and genus Saccharomyces, containing the associated \n",
    "#yeast genes. \n",
    "\n",
    "rs=cur.fetchall();\n",
    "print('Number of genes found: [%d].' %(len(rs)))\n",
    "print(', '.join([x[0] for x in rs[0:10]]))"
   ]
  },
  {
   "cell_type": "markdown",
   "metadata": {},
   "source": [
    "## ===== mirdb (80pt)\n",
    "\n",
    "### Download file & Set up db connection\n",
    "This section is sufficient for downloading the data file and setting up the database connection. You may make changes/improvements or keep it as is.\n",
    "\n",
    "In the remainder of this problem, you need to use the mirtxtfile and db variables created here.\n"
   ]
  },
  {
   "cell_type": "code",
   "execution_count": 4,
   "metadata": {},
   "outputs": [
    {
     "name": "stdout",
     "output_type": "stream",
     "text": [
      "<sqlite3.Connection object at 0x000001D805803990>\n"
     ]
    }
   ],
   "source": [
    "from pprint import pprint \n",
    "\n",
    "mirurl='http://sacan.biomed.drexel.edu/lib/exe/fetch.php?rev=&media=course:bcomp2:db:homework_mirdb_dog75.txt';\n",
    "mirtxtfile=bmes.downloadurl(mirurl,'mirdb_dog75.txt')\n",
    "\n",
    "mirdbfile=bmes.datadir()+'/mirdb_dog.sqlite'\n",
    "db = sqlite3.connect(mirdbfile)\n",
    "\n",
    "print(db)\n",
    "\n",
    "## code provided by prof. sacan \n"
   ]
  },
  {
   "cell_type": "markdown",
   "metadata": {},
   "source": [
    "## %% (30pt) Create a database from mirdb data.\n",
    "* Any downloaded files should be stored elsewhere on your computer (i.e., in a \"Temporary\" directory). \n",
    "* Store the database elsewhere (in \"Temporary\" directory) on your computer; not within the same folder as your assignment. \n"
   ]
  },
  {
   "cell_type": "code",
   "execution_count": 5,
   "metadata": {},
   "outputs": [],
   "source": [
    "#The code in the section above already accomplishes the file download & location requirements.\n",
    "#Just make use of mirtxtfile and db variables here.\n",
    "\n",
    "import gzip \n",
    "import sqlite3 \n",
    "#modules we need to import \n",
    "gzfile = bmes.downloadurl('http://mirdb.org/download/miRDB_v6.0_prediction_result.txt.gz')\n",
    "i = 0; \n",
    "#http://mirdb.org/download/miRDB_v6.0_prediction_result.txt.gz\n",
    "\n",
    "conn = sqlite3.connect('mirdb.sqlite')\n",
    "#cur = conn.cursor();\n",
    "#not sure if we need an additional cursor here \n",
    "conn.execute(\"\"\"CREATE TABLE IF NOT EXISTS mirdb ( \n",
    "id INTEGER PRIMARY KEY,\n",
    "miRNA VARCHAR(30), \n",
    "gene VARCHAR(30), \n",
    "score FLOAT); \"\"\");\n",
    "\n",
    "#structure of database is (miRNA, target which genes, and the type of score) for the information type \n",
    "\n",
    "conn.commit();\n",
    "\n",
    "with gzip.open(gzfile,'rt') as file:\n",
    "    for line in file: \n",
    "        items = line.strip().split(\"\\t\")\n",
    "        conn.execute(\"INSERT INTO mirdb (miRNA, gene, score) VALUES ('\"+items[0]+\"', \\\n",
    "        '\"+items[1]+\"', '\"+items[2]+\"');\"); \n",
    "        \n",
    "conn.commit();\n",
    "cur = conn.cursor();\n",
    "conn.close();\n",
    "\n",
    "#example from in-class \n",
    "# print('INSERT INTO myfruits(name,weight,color) VALUES (' + items[0] + ', ' + items[1] + ', ' + items[2] + ') ')"
   ]
  },
  {
   "cell_type": "code",
   "execution_count": null,
   "metadata": {},
   "outputs": [],
   "source": [
    "#% If your database creation code does not work, you may use a database\n",
    "#% created by the instructor. Uncomment the following lines to use the\n",
    "#% instructor's database. If you are using the instructor's database, we\n",
    "#% will assume that your database creation code does not work.\n",
    "\n",
    "#mirdbfile='http://sacan.biomed.drexel.edu/lib/exe/fetch.php?rev=&media=course:bcomp2:db:homework_mirdb_dog.sqlite';\n",
    "#mirdbfile=bmes.downloadurl(mirdbfile);\n",
    "#db = sqlite3.connect(mirdbfile)\n",
    "\n",
    "\n",
    "#then possible to use the selection queries to answer these values. "
   ]
  },
  {
   "cell_type": "markdown",
   "metadata": {},
   "source": [
    "### %% Find miRNAs for a target"
   ]
  },
  {
   "cell_type": "markdown",
   "metadata": {},
   "source": [
    "###### Comments \n",
    "\n",
    "ideally the way I would check the execution queries would be using bash, including nano and pipe commands to sort the the target and counts to confirm the correct output was achieved. "
   ]
  },
  {
   "cell_type": "code",
   "execution_count": 6,
   "metadata": {},
   "outputs": [
    {
     "name": "stdout",
     "output_type": "stream",
     "text": [
      "294\n"
     ]
    }
   ],
   "source": [
    "#% * (20pt) How many miRNAs are predicted to target XM_532324  ?\n",
    "# print only the value of how many miRNA there are \n",
    "\n",
    "cur.execute(\"SELECT count(*) FROM mirdb WHERE gene = 'XM_532324';\");\n",
    "rows = cur.fetchall()[0][0] # if remove [0][0] output is (,245)\n",
    "print(rows)\n",
    "\n",
    "# rows = cur.fetchall()\n",
    "# #cur.execute(\"SELECT * FROM students;\");\n",
    "# # rows = cur.fetchall()\n"
   ]
  },
  {
   "cell_type": "code",
   "execution_count": 7,
   "metadata": {},
   "outputs": [
    {
     "data": {
      "text/html": [
       "<div>\n",
       "<style scoped>\n",
       "    .dataframe tbody tr th:only-of-type {\n",
       "        vertical-align: middle;\n",
       "    }\n",
       "\n",
       "    .dataframe tbody tr th {\n",
       "        vertical-align: top;\n",
       "    }\n",
       "\n",
       "    .dataframe thead th {\n",
       "        text-align: right;\n",
       "    }\n",
       "</style>\n",
       "<table border=\"1\" class=\"dataframe\">\n",
       "  <thead>\n",
       "    <tr style=\"text-align: right;\">\n",
       "      <th></th>\n",
       "      <th>id</th>\n",
       "      <th>miRNA</th>\n",
       "      <th>gene</th>\n",
       "      <th>score</th>\n",
       "    </tr>\n",
       "  </thead>\n",
       "  <tbody>\n",
       "    <tr>\n",
       "      <th>0</th>\n",
       "      <td>57</td>\n",
       "      <td>cfa-miR-1185</td>\n",
       "      <td>XM_532324</td>\n",
       "      <td>76.632935</td>\n",
       "    </tr>\n",
       "    <tr>\n",
       "      <th>1</th>\n",
       "      <td>3103</td>\n",
       "      <td>cfa-miR-544</td>\n",
       "      <td>XM_532324</td>\n",
       "      <td>63.267940</td>\n",
       "    </tr>\n",
       "    <tr>\n",
       "      <th>2</th>\n",
       "      <td>20806</td>\n",
       "      <td>cfa-miR-342</td>\n",
       "      <td>XM_532324</td>\n",
       "      <td>84.569807</td>\n",
       "    </tr>\n",
       "    <tr>\n",
       "      <th>3</th>\n",
       "      <td>40353</td>\n",
       "      <td>cfa-let-7b</td>\n",
       "      <td>XM_532324</td>\n",
       "      <td>69.058900</td>\n",
       "    </tr>\n",
       "    <tr>\n",
       "      <th>4</th>\n",
       "      <td>73181</td>\n",
       "      <td>cfa-miR-345</td>\n",
       "      <td>XM_532324</td>\n",
       "      <td>54.234400</td>\n",
       "    </tr>\n",
       "    <tr>\n",
       "      <th>5</th>\n",
       "      <td>79009</td>\n",
       "      <td>cfa-miR-1836</td>\n",
       "      <td>XM_532324</td>\n",
       "      <td>59.643486</td>\n",
       "    </tr>\n",
       "    <tr>\n",
       "      <th>6</th>\n",
       "      <td>83638</td>\n",
       "      <td>cfa-miR-8881</td>\n",
       "      <td>XM_532324</td>\n",
       "      <td>81.215490</td>\n",
       "    </tr>\n",
       "    <tr>\n",
       "      <th>7</th>\n",
       "      <td>94396</td>\n",
       "      <td>cfa-miR-144</td>\n",
       "      <td>XM_532324</td>\n",
       "      <td>68.878200</td>\n",
       "    </tr>\n",
       "    <tr>\n",
       "      <th>8</th>\n",
       "      <td>99485</td>\n",
       "      <td>cfa-miR-98</td>\n",
       "      <td>XM_532324</td>\n",
       "      <td>56.143000</td>\n",
       "    </tr>\n",
       "    <tr>\n",
       "      <th>9</th>\n",
       "      <td>109804</td>\n",
       "      <td>cfa-miR-8797</td>\n",
       "      <td>XM_532324</td>\n",
       "      <td>62.892762</td>\n",
       "    </tr>\n",
       "  </tbody>\n",
       "</table>\n",
       "</div>"
      ],
      "text/plain": [
       "       id         miRNA       gene      score\n",
       "0      57  cfa-miR-1185  XM_532324  76.632935\n",
       "1    3103   cfa-miR-544  XM_532324  63.267940\n",
       "2   20806   cfa-miR-342  XM_532324  84.569807\n",
       "3   40353    cfa-let-7b  XM_532324  69.058900\n",
       "4   73181   cfa-miR-345  XM_532324  54.234400\n",
       "5   79009  cfa-miR-1836  XM_532324  59.643486\n",
       "6   83638  cfa-miR-8881  XM_532324  81.215490\n",
       "7   94396   cfa-miR-144  XM_532324  68.878200\n",
       "8   99485    cfa-miR-98  XM_532324  56.143000\n",
       "9  109804  cfa-miR-8797  XM_532324  62.892762"
      ]
     },
     "metadata": {},
     "output_type": "display_data"
    }
   ],
   "source": [
    "#%  * Show at most 10 miRNAs that are predicted to target XM_532324.\n",
    "from pandas import DataFrame\n",
    "cur.execute(\"SELECT * FROM mirdb WHERE gene = 'XM_532324';\");\n",
    "rows=cur.fetchall();\n",
    "df = DataFrame(rows)\n",
    "\n",
    "df.columns = [x[0] for x in cur.description] #iterate over columns for the headers using \n",
    "#list comprehension \n",
    "display(df.head(10))\n",
    "#display only the begining top beginning rows \n"
   ]
  },
  {
   "cell_type": "markdown",
   "metadata": {},
   "source": [
    "### %% Find targets for a miRNA"
   ]
  },
  {
   "cell_type": "code",
   "execution_count": 8,
   "metadata": {},
   "outputs": [
    {
     "data": {
      "text/plain": [
       "1818"
      ]
     },
     "execution_count": 8,
     "metadata": {},
     "output_type": "execute_result"
    }
   ],
   "source": [
    "#% * (20pt) How many predicted targets of cfa-let-7a have a prediction score of at least 80?\n",
    "# find at least how many of the targets gene > 80. \n",
    "cur.execute(\"SELECT count(*) FROM mirdb WHERE miRNA = 'cfa-let-7a' AND score >= 80\").fetchall()[0][0]\n"
   ]
  },
  {
   "cell_type": "code",
   "execution_count": 9,
   "metadata": {},
   "outputs": [
    {
     "data": {
      "text/html": [
       "<div>\n",
       "<style scoped>\n",
       "    .dataframe tbody tr th:only-of-type {\n",
       "        vertical-align: middle;\n",
       "    }\n",
       "\n",
       "    .dataframe tbody tr th {\n",
       "        vertical-align: top;\n",
       "    }\n",
       "\n",
       "    .dataframe thead th {\n",
       "        text-align: right;\n",
       "    }\n",
       "</style>\n",
       "<table border=\"1\" class=\"dataframe\">\n",
       "  <thead>\n",
       "    <tr style=\"text-align: right;\">\n",
       "      <th></th>\n",
       "      <th>id</th>\n",
       "      <th>miRNA</th>\n",
       "      <th>gene</th>\n",
       "      <th>score</th>\n",
       "    </tr>\n",
       "  </thead>\n",
       "  <tbody>\n",
       "    <tr>\n",
       "      <th>0</th>\n",
       "      <td>351845</td>\n",
       "      <td>cfa-let-7a</td>\n",
       "      <td>XM_014119515</td>\n",
       "      <td>92.568227</td>\n",
       "    </tr>\n",
       "    <tr>\n",
       "      <th>1</th>\n",
       "      <td>351846</td>\n",
       "      <td>cfa-let-7a</td>\n",
       "      <td>XM_847837</td>\n",
       "      <td>97.108376</td>\n",
       "    </tr>\n",
       "    <tr>\n",
       "      <th>2</th>\n",
       "      <td>351847</td>\n",
       "      <td>cfa-let-7a</td>\n",
       "      <td>XM_014111346</td>\n",
       "      <td>89.706800</td>\n",
       "    </tr>\n",
       "    <tr>\n",
       "      <th>3</th>\n",
       "      <td>351852</td>\n",
       "      <td>cfa-let-7a</td>\n",
       "      <td>XM_541808</td>\n",
       "      <td>98.033650</td>\n",
       "    </tr>\n",
       "    <tr>\n",
       "      <th>4</th>\n",
       "      <td>351854</td>\n",
       "      <td>cfa-let-7a</td>\n",
       "      <td>XM_005621935</td>\n",
       "      <td>89.702500</td>\n",
       "    </tr>\n",
       "    <tr>\n",
       "      <th>5</th>\n",
       "      <td>351857</td>\n",
       "      <td>cfa-let-7a</td>\n",
       "      <td>XM_014118125</td>\n",
       "      <td>92.237420</td>\n",
       "    </tr>\n",
       "    <tr>\n",
       "      <th>6</th>\n",
       "      <td>351859</td>\n",
       "      <td>cfa-let-7a</td>\n",
       "      <td>XM_847579</td>\n",
       "      <td>91.793000</td>\n",
       "    </tr>\n",
       "    <tr>\n",
       "      <th>7</th>\n",
       "      <td>351863</td>\n",
       "      <td>cfa-let-7a</td>\n",
       "      <td>XM_005630512</td>\n",
       "      <td>83.195500</td>\n",
       "    </tr>\n",
       "    <tr>\n",
       "      <th>8</th>\n",
       "      <td>351864</td>\n",
       "      <td>cfa-let-7a</td>\n",
       "      <td>XM_005618982</td>\n",
       "      <td>89.675100</td>\n",
       "    </tr>\n",
       "    <tr>\n",
       "      <th>9</th>\n",
       "      <td>351866</td>\n",
       "      <td>cfa-let-7a</td>\n",
       "      <td>XM_014114613</td>\n",
       "      <td>83.496800</td>\n",
       "    </tr>\n",
       "  </tbody>\n",
       "</table>\n",
       "</div>"
      ],
      "text/plain": [
       "       id       miRNA          gene      score\n",
       "0  351845  cfa-let-7a  XM_014119515  92.568227\n",
       "1  351846  cfa-let-7a     XM_847837  97.108376\n",
       "2  351847  cfa-let-7a  XM_014111346  89.706800\n",
       "3  351852  cfa-let-7a     XM_541808  98.033650\n",
       "4  351854  cfa-let-7a  XM_005621935  89.702500\n",
       "5  351857  cfa-let-7a  XM_014118125  92.237420\n",
       "6  351859  cfa-let-7a     XM_847579  91.793000\n",
       "7  351863  cfa-let-7a  XM_005630512  83.195500\n",
       "8  351864  cfa-let-7a  XM_005618982  89.675100\n",
       "9  351866  cfa-let-7a  XM_014114613  83.496800"
      ]
     },
     "metadata": {},
     "output_type": "display_data"
    }
   ],
   "source": [
    "#% * Show at most 10 predicted targets of cfa-let-7a that have a prediction score of at least 80.\n",
    "from pandas import DataFrame\n",
    "cur.execute(\"SELECT * FROM mirdb WHERE miRNA = 'cfa-let-7a' AND score >= 80\")\n",
    "rows = cur.fetchall();\n",
    "df = DataFrame(rows)\n",
    "\n",
    "df.columns = [x[0] for x in cur.description]\n",
    "display(df.head(10))"
   ]
  },
  {
   "cell_type": "markdown",
   "metadata": {},
   "source": [
    "### %% Summarize miRNAs and target counts"
   ]
  },
  {
   "cell_type": "code",
   "execution_count": 10,
   "metadata": {},
   "outputs": [
    {
     "name": "stdout",
     "output_type": "stream",
     "text": [
      "('cfa-let-7a', 8292)\n",
      "('cfa-let-7b', 8304)\n",
      "('cfa-let-7c', 8292)\n",
      "('cfa-let-7d', 582)\n",
      "('cfa-let-7e', 8292)\n",
      "('cfa-let-7f', 8238)\n",
      "('cfa-let-7g', 8334)\n",
      "('cfa-let-7j', 8244)\n",
      "('cfa-miR-1', 9168)\n",
      "('cfa-miR-101', 13320)\n"
     ]
    }
   ],
   "source": [
    "#% * (10pt) List the miRNAs and the number of their targets.\n",
    "#(Each row of the result should contain a distinct miRNA). \n",
    "#(Use count() and GROUP BY). Show only top 10 rows of the result.\n",
    "\n",
    "cur.execute(\"SELECT miRNA, count(*) FROM mirdb GROUP BY miRNA\"); \n",
    "\n",
    "rows = cur.fetchall() #cursor needed to fetch all results \n",
    "i = 0\n",
    "for row in rows:\n",
    "    print(row)\n",
    "    i = i + 1\n",
    "    if i >= 10: break \n",
    "\n",
    "# i=i+1;\n",
    "# if i>=10: break\n",
    "\n",
    "#find-out how many targets are found in total, but only show the start of the frist ten. \n",
    "#for the selection statement. \n"
   ]
  },
  {
   "cell_type": "code",
   "execution_count": 11,
   "metadata": {},
   "outputs": [
    {
     "data": {
      "text/html": [
       "<div>\n",
       "<style scoped>\n",
       "    .dataframe tbody tr th:only-of-type {\n",
       "        vertical-align: middle;\n",
       "    }\n",
       "\n",
       "    .dataframe tbody tr th {\n",
       "        vertical-align: top;\n",
       "    }\n",
       "\n",
       "    .dataframe thead th {\n",
       "        text-align: right;\n",
       "    }\n",
       "</style>\n",
       "<table border=\"1\" class=\"dataframe\">\n",
       "  <thead>\n",
       "    <tr style=\"text-align: right;\">\n",
       "      <th></th>\n",
       "      <th>miRNA</th>\n",
       "      <th>count(*)</th>\n",
       "    </tr>\n",
       "  </thead>\n",
       "  <tbody>\n",
       "    <tr>\n",
       "      <th>0</th>\n",
       "      <td>cfa-let-7a</td>\n",
       "      <td>8292</td>\n",
       "    </tr>\n",
       "    <tr>\n",
       "      <th>1</th>\n",
       "      <td>cfa-let-7b</td>\n",
       "      <td>8304</td>\n",
       "    </tr>\n",
       "    <tr>\n",
       "      <th>2</th>\n",
       "      <td>cfa-let-7c</td>\n",
       "      <td>8292</td>\n",
       "    </tr>\n",
       "    <tr>\n",
       "      <th>3</th>\n",
       "      <td>cfa-let-7d</td>\n",
       "      <td>582</td>\n",
       "    </tr>\n",
       "    <tr>\n",
       "      <th>4</th>\n",
       "      <td>cfa-let-7e</td>\n",
       "      <td>8292</td>\n",
       "    </tr>\n",
       "    <tr>\n",
       "      <th>5</th>\n",
       "      <td>cfa-let-7f</td>\n",
       "      <td>8238</td>\n",
       "    </tr>\n",
       "    <tr>\n",
       "      <th>6</th>\n",
       "      <td>cfa-let-7g</td>\n",
       "      <td>8334</td>\n",
       "    </tr>\n",
       "    <tr>\n",
       "      <th>7</th>\n",
       "      <td>cfa-let-7j</td>\n",
       "      <td>8244</td>\n",
       "    </tr>\n",
       "    <tr>\n",
       "      <th>8</th>\n",
       "      <td>cfa-miR-1</td>\n",
       "      <td>9168</td>\n",
       "    </tr>\n",
       "    <tr>\n",
       "      <th>9</th>\n",
       "      <td>cfa-miR-101</td>\n",
       "      <td>13320</td>\n",
       "    </tr>\n",
       "  </tbody>\n",
       "</table>\n",
       "</div>"
      ],
      "text/plain": [
       "         miRNA  count(*)\n",
       "0   cfa-let-7a      8292\n",
       "1   cfa-let-7b      8304\n",
       "2   cfa-let-7c      8292\n",
       "3   cfa-let-7d       582\n",
       "4   cfa-let-7e      8292\n",
       "5   cfa-let-7f      8238\n",
       "6   cfa-let-7g      8334\n",
       "7   cfa-let-7j      8244\n",
       "8    cfa-miR-1      9168\n",
       "9  cfa-miR-101     13320"
      ]
     },
     "metadata": {},
     "output_type": "display_data"
    }
   ],
   "source": [
    "#Same way as above, just wanted to try out the for loop as well. \n",
    "cur.execute(\"SELECT miRNA, count(*) FROM mirdb GROUP BY miRNA\"); \n",
    "\n",
    "rows=cur.fetchall();\n",
    "\n",
    "df = DataFrame(rows)\n",
    "df.columns = [x[0] for x in cur.description] #iterate over columns for the headers using list \n",
    "#comprehension \n",
    "display(df.head(10))"
   ]
  },
  {
   "cell_type": "code",
   "execution_count": null,
   "metadata": {},
   "outputs": [],
   "source": []
  }
 ],
 "metadata": {
  "kernelspec": {
   "display_name": "Python 3",
   "language": "python",
   "name": "python3"
  },
  "language_info": {
   "codemirror_mode": {
    "name": "ipython",
    "version": 3
   },
   "file_extension": ".py",
   "mimetype": "text/x-python",
   "name": "python",
   "nbconvert_exporter": "python",
   "pygments_lexer": "ipython3",
   "version": "3.8.8"
  }
 },
 "nbformat": 4,
 "nbformat_minor": 4
}
